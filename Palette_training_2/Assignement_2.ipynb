{
  "cells": [
    {
      "cell_type": "markdown",
      "metadata": {
        "id": "pf5SXa1XeBkI"
      },
      "source": [
        "# Assignement 2\n"
      ]
    },
    {
      "cell_type": "markdown",
      "metadata": {
        "id": "txLDhiheeJtw"
      },
      "source": [
        "Please do not change, delete or edit any cells. Write your code in between designated lines.\n",
        "\n"
      ]
    },
    {
      "cell_type": "markdown",
      "metadata": {
        "id": "pVXIH2TLfXYF"
      },
      "source": [
        "## Question 1 (10 points)"
      ]
    },
    {
      "cell_type": "code",
      "execution_count": 2,
      "metadata": {
        "id": "VS-FTxUHfclH"
      },
      "outputs": [
        {
          "name": "stdout",
          "output_type": "stream",
          "text": [
            "A\n",
            "g\n",
            "r\n",
            "i\n",
            "c\n",
            "u\n",
            "l\n",
            "t\n",
            "u\n",
            "r\n",
            "e\n"
          ]
        }
      ],
      "source": [
        "# Can your print the letters of Agriculture by using for loops. Your output will look like this:\n",
        "# A\n",
        "# g\n",
        "# r\n",
        "# i\n",
        "# c\n",
        "# u\n",
        "# l\n",
        "# t\n",
        "# u\n",
        "# r\n",
        "# e\n",
        "\n",
        "## Your code here - down ##\n",
        "my_string = \"Agriculture\"\n",
        "\n",
        "for c in my_string:\n",
        "    print(c)\n",
        "\n",
        "## Your code here - up ##\n"
      ]
    },
    {
      "cell_type": "markdown",
      "metadata": {
        "id": "rTT_VIPMefpk"
      },
      "source": [
        "## Question 2 (40 Points)"
      ]
    },
    {
      "cell_type": "code",
      "execution_count": 5,
      "metadata": {
        "id": "dQp85EhveEWB"
      },
      "outputs": [
        {
          "name": "stdout",
          "output_type": "stream",
          "text": [
            "1275\n"
          ]
        }
      ],
      "source": [
        "# Find the sum of numbers from 1 to 50(including) by using for loops.\n",
        "\n",
        "## Your code here - down ##\n",
        "my_numbers = list(range(1, 51))\n",
        "print(sum(my_numbers))\n",
        "\n",
        "## Your code here - up ##"
      ]
    },
    {
      "cell_type": "markdown",
      "metadata": {
        "id": "gijHHMnjgZPy"
      },
      "source": [
        "## Question 3 (50 points)"
      ]
    },
    {
      "cell_type": "code",
      "execution_count": 8,
      "metadata": {
        "id": "IXBo2RM2gYPR"
      },
      "outputs": [
        {
          "name": "stdout",
          "output_type": "stream",
          "text": [
            "The sum of all even elements in the vector is: 650\n",
            "The sum of all odd elements in the vector is: 625\n"
          ]
        }
      ],
      "source": [
        "# Now let's find sum of even and odd numbers from 1 to 50 (including). Are the results same?\n",
        "\n",
        "# Sum of even  numbers\n",
        "\n",
        "## Your code here - down ##\n",
        "vector = list(range(1, 51))\n",
        "\n",
        "even_sum = 0\n",
        "odd_sum = 0\n",
        "for element in vector:\n",
        "    if element % 2 == 0:\n",
        "        even_sum += element\n",
        "    else:\n",
        "        odd_sum += element\n",
        "\n",
        "print(\"The sum of all even elements in the vector is:\", even_sum)\n",
        "print(\"The sum of all odd elements in the vector is:\", odd_sum)\n",
        "## Your code here - up ##\n",
        "\n",
        "## The results are different because there is one more even number than odd"
      ]
    },
    {
      "cell_type": "code",
      "execution_count": 6,
      "metadata": {
        "id": "xQh-bx6ohCe-"
      },
      "outputs": [],
      "source": [
        "# Sum of odd numbers\n",
        "\n",
        "## Your code here - down ##\n",
        "\n",
        "# Done above\n",
        "\n",
        "## Your code here - up ##"
      ]
    },
    {
      "cell_type": "code",
      "execution_count": 7,
      "metadata": {
        "id": "OeIXVOYThLbA"
      },
      "outputs": [],
      "source": [
        "# In this cell explain the difference.\n",
        "\n",
        "## The results are different because there is one more even number than odd as we included 1 and 50 in our formula"
      ]
    }
  ],
  "metadata": {
    "colab": {
      "provenance": []
    },
    "kernelspec": {
      "display_name": "Python 3",
      "language": "python",
      "name": "python3"
    },
    "language_info": {
      "codemirror_mode": {
        "name": "ipython",
        "version": 3
      },
      "file_extension": ".py",
      "mimetype": "text/x-python",
      "name": "python",
      "nbconvert_exporter": "python",
      "pygments_lexer": "ipython3",
      "version": "3.9.13"
    },
    "vscode": {
      "interpreter": {
        "hash": "a4ea88952ae728c26a3dd7452a2575d9241b190a088b89fbe39c9057c7db201e"
      }
    }
  },
  "nbformat": 4,
  "nbformat_minor": 0
}
