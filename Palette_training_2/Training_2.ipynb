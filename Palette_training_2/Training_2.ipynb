{
  "cells": [
    {
      "cell_type": "markdown",
      "metadata": {
        "id": "W4nWvAwnOCQe"
      },
      "source": [
        "# Training 2"
      ]
    },
    {
      "cell_type": "markdown",
      "metadata": {
        "id": "YSH9PzxPOW5p"
      },
      "source": [
        "## Mathematical Operations"
      ]
    },
    {
      "cell_type": "code",
      "execution_count": null,
      "metadata": {
        "colab": {
          "base_uri": "https://localhost:8080/"
        },
        "id": "6JIBSjz1N4Ds",
        "outputId": "97aec888-07c4-4508-dee6-16da38229f37"
      },
      "outputs": [
        {
          "data": {
            "text/plain": [
              "21"
            ]
          },
          "execution_count": 29,
          "metadata": {},
          "output_type": "execute_result"
        }
      ],
      "source": [
        "# Addition\n",
        "16 + 5"
      ]
    },
    {
      "cell_type": "code",
      "execution_count": null,
      "metadata": {
        "colab": {
          "base_uri": "https://localhost:8080/"
        },
        "id": "_iMn7_uGN4Ha",
        "outputId": "81cf80d3-2939-4caa-a529-6128f53b5ab5"
      },
      "outputs": [
        {
          "data": {
            "text/plain": [
              "11"
            ]
          },
          "execution_count": 30,
          "metadata": {},
          "output_type": "execute_result"
        }
      ],
      "source": [
        "# Subtraction\n",
        "16 - 5"
      ]
    },
    {
      "cell_type": "code",
      "execution_count": null,
      "metadata": {
        "colab": {
          "base_uri": "https://localhost:8080/"
        },
        "id": "Sveuxh46N4XY",
        "outputId": "ddcba059-f78b-4755-c0fe-7b14edf33c66"
      },
      "outputs": [
        {
          "data": {
            "text/plain": [
              "80"
            ]
          },
          "execution_count": 31,
          "metadata": {},
          "output_type": "execute_result"
        }
      ],
      "source": [
        "# Multipilication\n",
        "16 * 5"
      ]
    },
    {
      "cell_type": "code",
      "execution_count": null,
      "metadata": {
        "colab": {
          "base_uri": "https://localhost:8080/"
        },
        "id": "PbB_JhcMN4bG",
        "outputId": "12cb24dd-996e-41d4-e1e4-ea6e036a6119"
      },
      "outputs": [
        {
          "data": {
            "text/plain": [
              "3.2"
            ]
          },
          "execution_count": 32,
          "metadata": {},
          "output_type": "execute_result"
        }
      ],
      "source": [
        "# Division\n",
        "16 / 5 "
      ]
    },
    {
      "cell_type": "code",
      "execution_count": null,
      "metadata": {
        "colab": {
          "base_uri": "https://localhost:8080/"
        },
        "id": "MG1S11QdN4eU",
        "outputId": "7a7198dc-ecba-43a4-dfb7-fc2bddda469b"
      },
      "outputs": [
        {
          "data": {
            "text/plain": [
              "1"
            ]
          },
          "execution_count": 27,
          "metadata": {},
          "output_type": "execute_result"
        }
      ],
      "source": [
        "# Remainder\n",
        "16 % 5"
      ]
    },
    {
      "cell_type": "code",
      "execution_count": null,
      "metadata": {
        "colab": {
          "base_uri": "https://localhost:8080/"
        },
        "id": "fEHZ7GNYPzCz",
        "outputId": "d85cf1c7-3646-4e5d-b496-353e7dd578ca"
      },
      "outputs": [
        {
          "data": {
            "text/plain": [
              "3"
            ]
          },
          "execution_count": 28,
          "metadata": {},
          "output_type": "execute_result"
        }
      ],
      "source": [
        "# Quotient\n",
        "16 // 5"
      ]
    },
    {
      "cell_type": "code",
      "execution_count": null,
      "metadata": {
        "id": "-UMuSPwAT-rv"
      },
      "outputs": [],
      "source": [
        "# Equal vs Assign\n",
        "# Equal is == (two eqaul signs), Assign is = (One equal sign)"
      ]
    },
    {
      "cell_type": "markdown",
      "metadata": {
        "id": "h48i94rTPvP4"
      },
      "source": [
        "## For Loops"
      ]
    },
    {
      "cell_type": "code",
      "execution_count": null,
      "metadata": {
        "collapsed": true,
        "id": "Lf2ndgGkKTzw"
      },
      "outputs": [],
      "source": [
        "crops = ['canola', 'barley', 'wheat']"
      ]
    },
    {
      "cell_type": "code",
      "execution_count": null,
      "metadata": {
        "colab": {
          "base_uri": "https://localhost:8080/"
        },
        "id": "OTtlm9fcKTz0",
        "outputId": "2b88e8ac-e41f-48bb-c9a3-0337227b665a"
      },
      "outputs": [
        {
          "name": "stdout",
          "output_type": "stream",
          "text": [
            "canola\n",
            "barley\n",
            "wheat\n"
          ]
        }
      ],
      "source": [
        "# A for loop is used for iterating over a sequence.\n",
        "for crop in crops:\n",
        "    print(crop)"
      ]
    },
    {
      "cell_type": "code",
      "execution_count": null,
      "metadata": {
        "colab": {
          "base_uri": "https://localhost:8080/"
        },
        "id": "ob9fmlpmQ2r4",
        "outputId": "1338a4ef-a641-4441-ba12-eae4d134d33f"
      },
      "outputs": [
        {
          "name": "stdout",
          "output_type": "stream",
          "text": [
            "34\n",
            "40\n",
            "45\n"
          ]
        }
      ],
      "source": [
        "yields = [34, 40, 45]\n",
        "\n",
        "for y in yields:\n",
        "    print(y)"
      ]
    },
    {
      "cell_type": "code",
      "execution_count": null,
      "metadata": {
        "colab": {
          "base_uri": "https://localhost:8080/"
        },
        "id": "OkosLo39KTz1",
        "outputId": "c66ae9a9-2a50-4a27-9628-01127486ee12"
      },
      "outputs": [
        {
          "name": "stdout",
          "output_type": "stream",
          "text": [
            "119\n"
          ]
        }
      ],
      "source": [
        "# Finding sum of yields.\n",
        "yields = [34, 40, 45]\n",
        "total_1 = 0\n",
        "for y in yields:\n",
        "    total_1 = total_1 + y\n",
        "print(total_1)"
      ]
    },
    {
      "cell_type": "code",
      "execution_count": null,
      "metadata": {
        "colab": {
          "base_uri": "https://localhost:8080/"
        },
        "id": "X60mWgw_RXT6",
        "outputId": "5e6b2590-774a-4de7-a6f1-19e0b2414248"
      },
      "outputs": [
        {
          "data": {
            "text/plain": [
              "119"
            ]
          },
          "execution_count": 56,
          "metadata": {},
          "output_type": "execute_result"
        }
      ],
      "source": [
        "# Finding Sum via sum()\n",
        "sum(yields)"
      ]
    },
    {
      "cell_type": "code",
      "execution_count": null,
      "metadata": {
        "colab": {
          "base_uri": "https://localhost:8080/"
        },
        "id": "kYCkj5H2L7zv",
        "outputId": "f6381c9b-463d-4ca3-9c95-e5c2b1949275"
      },
      "outputs": [
        {
          "name": "stdout",
          "output_type": "stream",
          "text": [
            "Result of print(range(10)):  range(0, 10)\n"
          ]
        }
      ],
      "source": [
        "# range(n) finctions gives us from 1 to n-1\n",
        "print('Result of print(range(10)): ', range(10))"
      ]
    },
    {
      "cell_type": "code",
      "execution_count": null,
      "metadata": {
        "colab": {
          "base_uri": "https://localhost:8080/"
        },
        "id": "sC-nQ5iHM_7U",
        "outputId": "a19b2500-f1ca-4ebf-fda1-4fe1556e94dd"
      },
      "outputs": [
        {
          "name": "stdout",
          "output_type": "stream",
          "text": [
            "Result of print list(range(10)):  [0, 1, 2, 3, 4, 5, 6, 7, 8, 9]\n"
          ]
        }
      ],
      "source": [
        "# list() returns a list []\n",
        "print('Result of print list(range(10)): ', list(range(10)))"
      ]
    },
    {
      "cell_type": "code",
      "execution_count": null,
      "metadata": {
        "colab": {
          "base_uri": "https://localhost:8080/"
        },
        "id": "LtODRGQxSFQ5",
        "outputId": "b6bc924c-d9aa-4f3f-8271-a1e776906711"
      },
      "outputs": [
        {
          "name": "stdout",
          "output_type": "stream",
          "text": [
            "21\n"
          ]
        }
      ],
      "source": [
        "# What us += sign in Python? \n",
        "# This operator is often referred to as the addition assignment operator.\n",
        "a = 16\n",
        "a+=5\n",
        "print(a)"
      ]
    },
    {
      "cell_type": "code",
      "execution_count": null,
      "metadata": {
        "colab": {
          "base_uri": "https://localhost:8080/"
        },
        "id": "iF92CzvZKTz2",
        "outputId": "cb63b0ed-524e-4e0d-ac7f-149573b1e063"
      },
      "outputs": [
        {
          "name": "stdout",
          "output_type": "stream",
          "text": [
            "5050\n"
          ]
        }
      ],
      "source": [
        "# Finding sum another way\n",
        "total_2 = 0\n",
        "for i in range(1, 101):\n",
        "    total_2 += i\n",
        "print(total_2)"
      ]
    },
    {
      "cell_type": "code",
      "execution_count": null,
      "metadata": {
        "colab": {
          "base_uri": "https://localhost:8080/"
        },
        "id": "mLnBB93lKTz4",
        "outputId": "488b32bf-8539-4706-edea-c4df253e04a5"
      },
      "outputs": [
        {
          "name": "stdout",
          "output_type": "stream",
          "text": [
            "15\n"
          ]
        }
      ],
      "source": [
        "# For Loops with coditions\n",
        "total_3 = 0\n",
        "for i in range(1, 15):\n",
        "    if i % 5 == 0:\n",
        "        total_3 += i\n",
        "print(total_3)"
      ]
    },
    {
      "cell_type": "code",
      "execution_count": null,
      "metadata": {
        "id": "QtHUzBTKUz00"
      },
      "outputs": [],
      "source": [
        "# Building a  function\n",
        "def sum_of_divisors():\n",
        "    total_3 = 0\n",
        "    for i in range(1, 15):\n",
        "        if i % 5 == 0:\n",
        "            total_3 += i\n",
        "    print(total_3) "
      ]
    },
    {
      "cell_type": "code",
      "execution_count": null,
      "metadata": {
        "colab": {
          "base_uri": "https://localhost:8080/"
        },
        "id": "8d5RitgbVZq7",
        "outputId": "52458d19-0291-4892-b99a-58e13fd802b4"
      },
      "outputs": [
        {
          "name": "stdout",
          "output_type": "stream",
          "text": [
            "15\n"
          ]
        }
      ],
      "source": [
        "sum_of_divisors()"
      ]
    },
    {
      "cell_type": "code",
      "execution_count": null,
      "metadata": {
        "colab": {
          "base_uri": "https://localhost:8080/"
        },
        "id": "Ash-nTMEYlwJ",
        "outputId": "6aa69986-ccf5-4ef8-d023-88296f5996a5"
      },
      "outputs": [
        {
          "name": "stdout",
          "output_type": "stream",
          "text": [
            "9\n"
          ]
        }
      ],
      "source": [
        "numbers = [5, 3, 1, -2, -3, -5]\n",
        "total_4 = 0\n",
        "for i in numbers:\n",
        "    if i <= 0:\n",
        "        break\n",
        "    total_4 += i\n",
        "print(total_4)"
      ]
    },
    {
      "cell_type": "markdown",
      "metadata": {
        "id": "83SBi52oXCXE"
      },
      "source": [
        "## While Loops"
      ]
    },
    {
      "cell_type": "code",
      "execution_count": null,
      "metadata": {
        "colab": {
          "base_uri": "https://localhost:8080/"
        },
        "id": "6dpVo2LMXGP2",
        "outputId": "c2ee91de-a9bb-4b44-9597-097cd591f54f"
      },
      "outputs": [
        {
          "name": "stdout",
          "output_type": "stream",
          "text": [
            "5050\n"
          ]
        }
      ],
      "source": [
        "total_5 = 0\n",
        "j = 1\n",
        "while j < 101:\n",
        "    total_5 += j\n",
        "    j += 1\n",
        "print(total_5)"
      ]
    }
  ],
  "metadata": {
    "colab": {
      "provenance": []
    },
    "kernelspec": {
      "display_name": "Python 3",
      "language": "python",
      "name": "python3"
    },
    "language_info": {
      "codemirror_mode": {
        "name": "ipython",
        "version": 3
      },
      "file_extension": ".py",
      "mimetype": "text/x-python",
      "name": "python",
      "nbconvert_exporter": "python",
      "pygments_lexer": "ipython3",
      "version": "3.9.13"
    },
    "vscode": {
      "interpreter": {
        "hash": "a4ea88952ae728c26a3dd7452a2575d9241b190a088b89fbe39c9057c7db201e"
      }
    }
  },
  "nbformat": 4,
  "nbformat_minor": 0
}
