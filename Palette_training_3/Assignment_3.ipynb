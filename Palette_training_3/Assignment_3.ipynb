{
  "cells": [
    {
      "cell_type": "markdown",
      "metadata": {
        "id": "G_4Uq9AcI7KL"
      },
      "source": [
        "# Assignment 3"
      ]
    },
    {
      "cell_type": "markdown",
      "metadata": {
        "id": "fr_EGCu-JMed"
      },
      "source": [
        "Please do not change, delete or edit any cells. Write your code in between designated lines."
      ]
    },
    {
      "cell_type": "markdown",
      "metadata": {
        "id": "L69__o06JnIg"
      },
      "source": [
        "## Question 1 (15 points)"
      ]
    },
    {
      "cell_type": "code",
      "execution_count": 4,
      "metadata": {
        "id": "bVAI5ISdJOWR"
      },
      "outputs": [
        {
          "name": "stdout",
          "output_type": "stream",
          "text": [
            "{'Peas': 55, 'Canola': 66, 'Oat': 65}\n"
          ]
        }
      ],
      "source": [
        "# Create a dictionary named dict1 then add key and values.\n",
        "# When you print output of dict1 will be shown as {'Peas': 55, 'Canola': 66, 'Oat': 65}.\n",
        "\n",
        "## Your code here - down ##\n",
        "dic1 = {}\n",
        "dic1['Peas'] = 55\n",
        "dic1['Canola'] = 66\n",
        "dic1['Oat'] = 65\n",
        "\n",
        "print(dic1)\n",
        "## Your code here - up ##"
      ]
    },
    {
      "cell_type": "code",
      "execution_count": 6,
      "metadata": {
        "id": "962MZgyEKSBw"
      },
      "outputs": [
        {
          "name": "stdout",
          "output_type": "stream",
          "text": [
            "{'Peas': 66, 'Canola': 66, 'Oat': 65}\n"
          ]
        }
      ],
      "source": [
        "# In this cell you need to change the assigned value of Peas to 66 and print dict1 again.\n",
        "\n",
        "## Your code here - down ##\n",
        "\n",
        "dic1['Peas'] = 66\n",
        "print(dic1)\n",
        "## Your code here - up ##"
      ]
    },
    {
      "cell_type": "code",
      "execution_count": 7,
      "metadata": {
        "id": "ZYkqG-uxKyMe"
      },
      "outputs": [
        {
          "name": "stdout",
          "output_type": "stream",
          "text": [
            "Peas\n",
            "66\n",
            "Canola\n",
            "66\n",
            "Oat\n",
            "65\n"
          ]
        }
      ],
      "source": [
        "# Now use For Loop and print values and key inside dict1. Your output will look like:\n",
        "# Peas\n",
        "# 66\n",
        "# and so on.\n",
        "\n",
        "## Your code here - down ##\n",
        "for key, value in dic1.items():\n",
        "    print(key)\n",
        "    print(value)\n",
        "\n",
        "## Your code here - up ##"
      ]
    },
    {
      "cell_type": "markdown",
      "metadata": {
        "id": "e4Ugu5vNKohg"
      },
      "source": [
        "## Question 2 (30 points)"
      ]
    },
    {
      "cell_type": "code",
      "execution_count": 9,
      "metadata": {
        "id": "1MeSpsIaMFrn"
      },
      "outputs": [
        {
          "name": "stdout",
          "output_type": "stream",
          "text": [
            "[4, 49, 81, 16]\n"
          ]
        }
      ],
      "source": [
        "ls = [2,7,9, 4]\n",
        "\n",
        "# Method 1\n",
        "# Ceate a list that consist of square of ls values.\n",
        "\n",
        "## Your code here - down ##\n",
        "\n",
        "ls_sqrd = [i**2 for i in ls]\n",
        "print(ls_sqrd)\n",
        "\n",
        "## Your code here - up ##"
      ]
    },
    {
      "cell_type": "code",
      "execution_count": 12,
      "metadata": {
        "id": "41u-FWnoMpfq"
      },
      "outputs": [
        {
          "name": "stdout",
          "output_type": "stream",
          "text": [
            "[4, 49, 81, 16]\n"
          ]
        }
      ],
      "source": [
        "# Method 2\n",
        "\n",
        "## Your code here - down ##\n",
        "\n",
        "ls_sqrd_2= []\n",
        "\n",
        "for i in ls:\n",
        "    ls_sqrd_2.append(i**2)\n",
        "\n",
        "print(ls_sqrd_2)\n",
        "\n",
        "## Your code here - up ##"
      ]
    },
    {
      "cell_type": "markdown",
      "metadata": {
        "id": "eeYzaBCFMwgS"
      },
      "source": [
        "## Question 3 (55 points)"
      ]
    },
    {
      "cell_type": "code",
      "execution_count": 18,
      "metadata": {
        "id": "OXhs3bGZM-Oj"
      },
      "outputs": [
        {
          "name": "stdout",
          "output_type": "stream",
          "text": [
            "(2, 3)\n"
          ]
        }
      ],
      "source": [
        "import numpy as np\n",
        "ar_1 = np.array([[3, 4, 5],\n",
        "                 [3, 4, 5]])\n",
        "# What is shape of the array?\n",
        "\n",
        "## Your code here - down ##\n",
        "print(ar_1.shape)\n",
        "## Your code here - up ##"
      ]
    },
    {
      "cell_type": "code",
      "execution_count": 22,
      "metadata": {
        "id": "oOm_o0nCNWGD"
      },
      "outputs": [
        {
          "name": "stdout",
          "output_type": "stream",
          "text": [
            "[3, 4, 5]\n"
          ]
        }
      ],
      "source": [
        "ar_2 = ([[3, 4, 5],\n",
        "         [8, 4, 1]])\n",
        "# Print first row of ar_2\n",
        "\n",
        "## Your code here - down ##\n",
        "\n",
        "print(ar_2[0][:])\n",
        "\n",
        "## Your code here - up ##"
      ]
    },
    {
      "cell_type": "code",
      "execution_count": 24,
      "metadata": {
        "id": "y9bfDeDQOBAn"
      },
      "outputs": [
        {
          "name": "stdout",
          "output_type": "stream",
          "text": [
            "1\n"
          ]
        }
      ],
      "source": [
        "# Write a code that will print 1 in ar_2.\n",
        "\n",
        "## Your code here - down ##\n",
        "\n",
        "print(ar_2[1][2])\n",
        "\n",
        "## Your code here - up ##"
      ]
    },
    {
      "cell_type": "code",
      "execution_count": 25,
      "metadata": {
        "id": "qSs9eeJZOPSs"
      },
      "outputs": [
        {
          "name": "stdout",
          "output_type": "stream",
          "text": [
            "4.166666666666667\n"
          ]
        }
      ],
      "source": [
        "# Print entire mean of ar_2\n",
        "\n",
        "## Your code here - down ##\n",
        "print(np.mean(ar_2))\n",
        "## Your code here - up ##"
      ]
    },
    {
      "cell_type": "code",
      "execution_count": 28,
      "metadata": {
        "id": "eoWFWqzLOiuP"
      },
      "outputs": [
        {
          "data": {
            "text/plain": [
              "array([5.5, 4. , 3. ])"
            ]
          },
          "execution_count": 28,
          "metadata": {},
          "output_type": "execute_result"
        }
      ],
      "source": [
        "# Print each columns' mean\n",
        "\n",
        "## Your code here - down ##\n",
        "\n",
        "np.mean(ar_2, axis=0)\n",
        "\n",
        "## Your code here - up ##"
      ]
    },
    {
      "cell_type": "code",
      "execution_count": 27,
      "metadata": {
        "id": "z2JxGSG1OyR1"
      },
      "outputs": [
        {
          "data": {
            "text/plain": [
              "2.1147629234082532"
            ]
          },
          "execution_count": 27,
          "metadata": {},
          "output_type": "execute_result"
        }
      ],
      "source": [
        "# Print entire standard deviation  of ar_2\n",
        "\n",
        "## Your code here - down ##\n",
        "np.std(ar_2)\n",
        "## Your code here - up ##"
      ]
    },
    {
      "cell_type": "code",
      "execution_count": 29,
      "metadata": {
        "id": "MxSBTiL4O4-W"
      },
      "outputs": [
        {
          "data": {
            "text/plain": [
              "array([0.81649658, 2.86744176])"
            ]
          },
          "execution_count": 29,
          "metadata": {},
          "output_type": "execute_result"
        }
      ],
      "source": [
        "# Print each rows' standard deviation.\n",
        "\n",
        "## Your code here - down ##\n",
        "\n",
        "np.std(ar_2,axis = 1)\n",
        "\n",
        "## Your code here - up ##"
      ]
    },
    {
      "cell_type": "code",
      "execution_count": 30,
      "metadata": {
        "id": "XF4u_fPtPBAX"
      },
      "outputs": [
        {
          "name": "stdout",
          "output_type": "stream",
          "text": [
            "0.16666666666666696\n"
          ]
        }
      ],
      "source": [
        "# Find the difference between mean and median of entire ar_2.\n",
        "\n",
        "## Your code here - down ##\n",
        "\n",
        "print(np.mean(ar_2) - np.median(ar_2))\n",
        "\n",
        "## Your code here - up ##"
      ]
    },
    {
      "cell_type": "markdown",
      "metadata": {
        "id": "ziac1rfuPp8H"
      },
      "source": [
        "Are mean and median same? If they are different, explain what does that mean.\n",
        "\n",
        "Please explain below in this cell only.\n"
      ]
    },
    {
      "attachments": {},
      "cell_type": "markdown",
      "metadata": {},
      "source": [
        "The mean and median are not the same. Mean is the average value of all cells, and median is the value at the center when sorted from min to max"
      ]
    }
  ],
  "metadata": {
    "colab": {
      "provenance": []
    },
    "kernelspec": {
      "display_name": "Python 3",
      "language": "python",
      "name": "python3"
    },
    "language_info": {
      "codemirror_mode": {
        "name": "ipython",
        "version": 3
      },
      "file_extension": ".py",
      "mimetype": "text/x-python",
      "name": "python",
      "nbconvert_exporter": "python",
      "pygments_lexer": "ipython3",
      "version": "3.9.13"
    },
    "vscode": {
      "interpreter": {
        "hash": "a4ea88952ae728c26a3dd7452a2575d9241b190a088b89fbe39c9057c7db201e"
      }
    }
  },
  "nbformat": 4,
  "nbformat_minor": 0
}
